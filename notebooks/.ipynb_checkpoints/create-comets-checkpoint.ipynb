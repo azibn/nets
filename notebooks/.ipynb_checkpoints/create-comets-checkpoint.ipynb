{
 "cells": [
  {
   "cell_type": "markdown",
   "id": "bb65436b-aaa2-462f-b955-7a8b871111c9",
   "metadata": {},
   "source": [
    "# Creating comet models"
   ]
  },
  {
   "cell_type": "code",
   "execution_count": 1,
   "id": "70240a3f-bff6-4946-ac16-4a0709b2ae33",
   "metadata": {},
   "outputs": [],
   "source": [
    "import os, sys\n",
    "sys.path.insert(1,'/Users/azib/Documents/open_source/kilimanjaro/scripts/')\n",
    "sys.path.insert(1, '/Users/azib/Documents/open_source/kilimanjaro/stella/')\n",
    "\n",
    "import numpy as np\n",
    "import build_synthetic_set as models\n",
    "from utils import *\n",
    "import matplotlib.pyplot as plt\n",
    "from glob import glob\n",
    "from tqdm import tqdm"
   ]
  },
  {
   "cell_type": "markdown",
   "id": "6f261392-86bb-4447-80ee-e387c780f622",
   "metadata": {},
   "source": [
    "## TESS S28 lightcurves\n",
    "- S28 is taken as random test sample.\n",
    "- 2-minute SPOC data.\n",
    "- Possibly we'll need to generate models for each sector to account for the sector-related noise properties?"
   ]
  },
  {
   "cell_type": "markdown",
   "id": "88ddcc26-26c9-4851-9e79-5d2d099085a6",
   "metadata": {},
   "source": [
    "### Generate the models"
   ]
  },
  {
   "cell_type": "code",
   "execution_count": 2,
   "id": "b4deb35d-699d-44a7-8c13-2e3ee1386d28",
   "metadata": {},
   "outputs": [
    {
     "data": {
      "text/plain": [
       "3907"
      ]
     },
     "execution_count": 2,
     "metadata": {},
     "output_type": "execute_result"
    }
   ],
   "source": [
    "files = glob('../data/s0028-sc/*.fits', recursive=True)\n",
    "len(files)"
   ]
  },
  {
   "cell_type": "code",
   "execution_count": 3,
   "id": "64d89e67-313d-437a-ac74-347c6f2dbb06",
   "metadata": {
    "scrolled": true
   },
   "outputs": [
    {
     "data": {
      "text/plain": [
       "['../data/s0028-sc/tess2020212050318-s0028-0000000025225879-0190-s_lc.fits',\n",
       " '../data/s0028-sc/tess2020212050318-s0028-0000000050492743-0190-s_lc.fits',\n",
       " '../data/s0028-sc/tess2020212050318-s0028-0000000263004788-0190-s_lc.fits',\n",
       " '../data/s0028-sc/tess2020212050318-s0028-0000000038459686-0190-s_lc.fits',\n",
       " '../data/s0028-sc/tess2020212050318-s0028-0000000266997506-0190-s_lc.fits']"
      ]
     },
     "execution_count": 3,
     "metadata": {},
     "output_type": "execute_result"
    }
   ],
   "source": [
    "files[0:5]"
   ]
  },
  {
   "cell_type": "code",
   "execution_count": 4,
   "id": "4c7d0c26-a0c6-45c0-aad6-fedd5d275f76",
   "metadata": {
    "scrolled": true
   },
   "outputs": [
    {
     "name": "stderr",
     "output_type": "stream",
     "text": [
      "  0%|                                                          | 0/3907 [00:00<?, ?it/s]/var/folders/bv/h7ss9cs93lq15v21yc62bk600000gn/T/ipykernel_2990/3536853454.py:17: VisibleDeprecationWarning: Creating an ndarray from ragged nested sequences (which is a list-or-tuple of lists-or-tuples-or ndarrays with different lengths or shapes) is deprecated. If you meant to do this, you must specify 'dtype=object' when creating the ndarray.\n",
      "  np.save(f\"../models/{info['TICID']}_sector28.npy\", np.array([time, flux, fluxerror,ticid,t0]))\n",
      "100%|███████████████████████████████████████████████| 3907/3907 [03:04<00:00, 21.22it/s]\n"
     ]
    }
   ],
   "source": [
    "os.makedirs('../models/',exist_ok=True)\n",
    "fails = []\n",
    "try:\n",
    "    for i in tqdm(files):\n",
    "        lc, info = import_lightcurve(i)\n",
    "    \n",
    "        t0 = np.random.uniform(lc['TIME'][0],lc['TIME'][-1])\n",
    "        A = 10 ** np.random.uniform(-3.5, -2, 1)[0]\n",
    "        model = 1-models.comet_curve(lc['TIME'],A,t0)\n",
    "        flux = model * lc['SAP_FLUX']\n",
    "        \n",
    "        time = np.array(lc['TIME'])\n",
    "        flux = np.array(flux)\n",
    "        fluxerror = np.array(lc['SAP_FLUX_ERR'])\n",
    "        ticid = np.array(info['TICID'])\n",
    "        t0 = np.array(t0)\n",
    "        np.save(f\"../models/{info['TICID']}_sector28.npy\", np.array([time, flux, fluxerror,ticid,t0]))\n",
    "        \n",
    "except TypeError as e:\n",
    "    ids = f\"{info['TICID']}\" + 'e'\n",
    "    fails.append(ids)\n",
    "    pass\n",
    "    "
   ]
  },
  {
   "cell_type": "markdown",
   "id": "b9672f9a-2d86-4a87-8af0-f1de291cd3c5",
   "metadata": {},
   "source": [
    "---"
   ]
  },
  {
   "cell_type": "markdown",
   "id": "543e77f0-5447-4d9a-b4da-5b09aa0f020e",
   "metadata": {},
   "source": [
    "## Sanity check: Read in flare models and plot grid"
   ]
  },
  {
   "cell_type": "code",
   "execution_count": null,
   "id": "c76c1e88-a6e0-4047-967e-4294fca1927d",
   "metadata": {},
   "outputs": [],
   "source": [
    "flares = glob('../stella-tests/lc/*.npy')\n",
    "flares[0:5]"
   ]
  },
  {
   "cell_type": "code",
   "execution_count": 5,
   "id": "d925bd31-0a77-408b-adda-6a8b4d846bc3",
   "metadata": {},
   "outputs": [],
   "source": [
    "file_paths = glob('../stella-tests/lc/*_model.npy')\n",
    "\n",
    "num_files_per_grid = 100\n",
    "\n",
    "# Loop through the file paths in chunks of num_files_per_grid\n",
    "for i in range(0, len(file_paths), num_files_per_grid):\n",
    "    batch_paths = file_paths[i:i+num_files_per_grid]\n",
    "    num_rows, num_cols = 10, 10\n",
    "    fig, axs = plt.subplots(num_rows, num_cols, figsize=(20, 20))\n",
    "\n",
    "    for j, path in enumerate(batch_paths):\n",
    "        file = np.load(path)\n",
    "        time, flux, fluxerror = file\n",
    "\n",
    "        # Extract the file ID from the path\n",
    "        file_id = os.path.splitext(os.path.basename(path))[0].split('_')[0]\n",
    "\n",
    "        row = j // num_cols\n",
    "        col = j % num_cols\n",
    "\n",
    "        axs[row, col].plot(time, flux)\n",
    "        axs[row, col].set_title(f'TIC {file_id}')\n",
    "\n",
    "    plt.tight_layout()\n",
    "    plt.show()\n",
    "    break"
   ]
  },
  {
   "cell_type": "code",
   "execution_count": 6,
   "id": "076d33a4-832d-4a06-b9b7-3472b5e2e5dc",
   "metadata": {
    "scrolled": true
   },
   "outputs": [
    {
     "name": "stderr",
     "output_type": "stream",
     "text": [
      "/Users/azib/micromamba/envs/kilimanjaro/lib/python3.8/site-packages/lightkurve/config/__init__.py:119: UserWarning: The default Lightkurve cache directory, used by download(), etc., has been moved to /Users/azib/.lightkurve/cache. Please move all the files in the legacy directory /Users/azib/.lightkurve-cache to the new location and remove the legacy directory. Refer to https://docs.lightkurve.org/reference/config.html#default-cache-directory-migration for more information.\n",
      "  warnings.warn(\n"
     ]
    }
   ],
   "source": [
    "import stella"
   ]
  },
  {
   "cell_type": "code",
   "execution_count": 3,
   "id": "a8f7407b-62af-4692-902e-980289bf9ffa",
   "metadata": {
    "scrolled": true
   },
   "outputs": [
    {
     "data": {
      "text/html": [
       "<div>\n",
       "<style scoped>\n",
       "    .dataframe tbody tr th:only-of-type {\n",
       "        vertical-align: middle;\n",
       "    }\n",
       "\n",
       "    .dataframe tbody tr th {\n",
       "        vertical-align: top;\n",
       "    }\n",
       "\n",
       "    .dataframe thead th {\n",
       "        text-align: right;\n",
       "    }\n",
       "</style>\n",
       "<table border=\"1\" class=\"dataframe\">\n",
       "  <thead>\n",
       "    <tr style=\"text-align: right;\">\n",
       "      <th></th>\n",
       "      <th>TIC</th>\n",
       "      <th>Outbst</th>\n",
       "      <th>Flare</th>\n",
       "      <th>tpeak</th>\n",
       "      <th>e_tpeak</th>\n",
       "      <th>E_tpeak</th>\n",
       "      <th>Amp</th>\n",
       "      <th>e_Amp</th>\n",
       "      <th>E_Amp</th>\n",
       "      <th>FWHMdt</th>\n",
       "      <th>e_FWHMdt</th>\n",
       "      <th>E_FWHMdt</th>\n",
       "      <th>Ebol</th>\n",
       "      <th>e_Ebol</th>\n",
       "      <th>E_Ebol</th>\n",
       "      <th>MCME</th>\n",
       "      <th>e_MCME</th>\n",
       "      <th>E_MCME</th>\n",
       "    </tr>\n",
       "  </thead>\n",
       "  <tbody>\n",
       "    <tr>\n",
       "      <th>0</th>\n",
       "      <td>2760232</td>\n",
       "      <td>1</td>\n",
       "      <td>1</td>\n",
       "      <td>2.458357e+06</td>\n",
       "      <td>0.000863</td>\n",
       "      <td>0.000854</td>\n",
       "      <td>0.01475</td>\n",
       "      <td>0.00168</td>\n",
       "      <td>0.00170</td>\n",
       "      <td>0.01958</td>\n",
       "      <td>0.00307</td>\n",
       "      <td>0.00375</td>\n",
       "      <td>NaN</td>\n",
       "      <td>NaN</td>\n",
       "      <td>NaN</td>\n",
       "      <td>NaN</td>\n",
       "      <td>NaN</td>\n",
       "      <td>NaN</td>\n",
       "    </tr>\n",
       "    <tr>\n",
       "      <th>1</th>\n",
       "      <td>2760232</td>\n",
       "      <td>2</td>\n",
       "      <td>1</td>\n",
       "      <td>2.458358e+06</td>\n",
       "      <td>0.001059</td>\n",
       "      <td>0.001026</td>\n",
       "      <td>0.01389</td>\n",
       "      <td>0.00162</td>\n",
       "      <td>0.00175</td>\n",
       "      <td>0.01612</td>\n",
       "      <td>0.00338</td>\n",
       "      <td>0.00394</td>\n",
       "      <td>NaN</td>\n",
       "      <td>NaN</td>\n",
       "      <td>NaN</td>\n",
       "      <td>NaN</td>\n",
       "      <td>NaN</td>\n",
       "      <td>NaN</td>\n",
       "    </tr>\n",
       "    <tr>\n",
       "      <th>2</th>\n",
       "      <td>2760232</td>\n",
       "      <td>3</td>\n",
       "      <td>1</td>\n",
       "      <td>2.458360e+06</td>\n",
       "      <td>0.000026</td>\n",
       "      <td>0.000026</td>\n",
       "      <td>0.28258</td>\n",
       "      <td>0.00817</td>\n",
       "      <td>0.00949</td>\n",
       "      <td>0.00196</td>\n",
       "      <td>0.00017</td>\n",
       "      <td>0.00017</td>\n",
       "      <td>NaN</td>\n",
       "      <td>NaN</td>\n",
       "      <td>NaN</td>\n",
       "      <td>NaN</td>\n",
       "      <td>NaN</td>\n",
       "      <td>NaN</td>\n",
       "    </tr>\n",
       "    <tr>\n",
       "      <th>3</th>\n",
       "      <td>2760232</td>\n",
       "      <td>3</td>\n",
       "      <td>2</td>\n",
       "      <td>2.458360e+06</td>\n",
       "      <td>0.000195</td>\n",
       "      <td>0.000195</td>\n",
       "      <td>0.04634</td>\n",
       "      <td>0.00589</td>\n",
       "      <td>0.00598</td>\n",
       "      <td>0.00610</td>\n",
       "      <td>0.00063</td>\n",
       "      <td>0.00062</td>\n",
       "      <td>NaN</td>\n",
       "      <td>NaN</td>\n",
       "      <td>NaN</td>\n",
       "      <td>NaN</td>\n",
       "      <td>NaN</td>\n",
       "      <td>NaN</td>\n",
       "    </tr>\n",
       "    <tr>\n",
       "      <th>4</th>\n",
       "      <td>2760232</td>\n",
       "      <td>3</td>\n",
       "      <td>3</td>\n",
       "      <td>2.458360e+06</td>\n",
       "      <td>0.001735</td>\n",
       "      <td>0.001565</td>\n",
       "      <td>0.01665</td>\n",
       "      <td>0.00185</td>\n",
       "      <td>0.00155</td>\n",
       "      <td>0.05816</td>\n",
       "      <td>0.00920</td>\n",
       "      <td>0.00928</td>\n",
       "      <td>NaN</td>\n",
       "      <td>NaN</td>\n",
       "      <td>NaN</td>\n",
       "      <td>NaN</td>\n",
       "      <td>NaN</td>\n",
       "      <td>NaN</td>\n",
       "    </tr>\n",
       "    <tr>\n",
       "      <th>...</th>\n",
       "      <td>...</td>\n",
       "      <td>...</td>\n",
       "      <td>...</td>\n",
       "      <td>...</td>\n",
       "      <td>...</td>\n",
       "      <td>...</td>\n",
       "      <td>...</td>\n",
       "      <td>...</td>\n",
       "      <td>...</td>\n",
       "      <td>...</td>\n",
       "      <td>...</td>\n",
       "      <td>...</td>\n",
       "      <td>...</td>\n",
       "      <td>...</td>\n",
       "      <td>...</td>\n",
       "      <td>...</td>\n",
       "      <td>...</td>\n",
       "      <td>...</td>\n",
       "    </tr>\n",
       "    <tr>\n",
       "      <th>8690</th>\n",
       "      <td>471015484</td>\n",
       "      <td>9</td>\n",
       "      <td>1</td>\n",
       "      <td>2.458371e+06</td>\n",
       "      <td>0.000070</td>\n",
       "      <td>0.000073</td>\n",
       "      <td>0.13585</td>\n",
       "      <td>0.00572</td>\n",
       "      <td>0.00568</td>\n",
       "      <td>0.00254</td>\n",
       "      <td>0.00018</td>\n",
       "      <td>0.00020</td>\n",
       "      <td>NaN</td>\n",
       "      <td>NaN</td>\n",
       "      <td>NaN</td>\n",
       "      <td>NaN</td>\n",
       "      <td>NaN</td>\n",
       "      <td>NaN</td>\n",
       "    </tr>\n",
       "    <tr>\n",
       "      <th>8691</th>\n",
       "      <td>471015484</td>\n",
       "      <td>10</td>\n",
       "      <td>1</td>\n",
       "      <td>2.458373e+06</td>\n",
       "      <td>0.000201</td>\n",
       "      <td>0.000249</td>\n",
       "      <td>0.04478</td>\n",
       "      <td>0.00437</td>\n",
       "      <td>0.00442</td>\n",
       "      <td>0.00410</td>\n",
       "      <td>0.00100</td>\n",
       "      <td>0.00100</td>\n",
       "      <td>NaN</td>\n",
       "      <td>NaN</td>\n",
       "      <td>NaN</td>\n",
       "      <td>NaN</td>\n",
       "      <td>NaN</td>\n",
       "      <td>NaN</td>\n",
       "    </tr>\n",
       "    <tr>\n",
       "      <th>8692</th>\n",
       "      <td>471015484</td>\n",
       "      <td>10</td>\n",
       "      <td>2</td>\n",
       "      <td>2.458373e+06</td>\n",
       "      <td>0.000323</td>\n",
       "      <td>0.000329</td>\n",
       "      <td>0.02797</td>\n",
       "      <td>0.00334</td>\n",
       "      <td>0.00339</td>\n",
       "      <td>0.00744</td>\n",
       "      <td>0.00207</td>\n",
       "      <td>0.00283</td>\n",
       "      <td>NaN</td>\n",
       "      <td>NaN</td>\n",
       "      <td>NaN</td>\n",
       "      <td>NaN</td>\n",
       "      <td>NaN</td>\n",
       "      <td>NaN</td>\n",
       "    </tr>\n",
       "    <tr>\n",
       "      <th>8693</th>\n",
       "      <td>471015484</td>\n",
       "      <td>11</td>\n",
       "      <td>1</td>\n",
       "      <td>2.458379e+06</td>\n",
       "      <td>0.000151</td>\n",
       "      <td>0.000161</td>\n",
       "      <td>0.03871</td>\n",
       "      <td>0.00519</td>\n",
       "      <td>0.00646</td>\n",
       "      <td>0.00266</td>\n",
       "      <td>0.00070</td>\n",
       "      <td>0.00079</td>\n",
       "      <td>NaN</td>\n",
       "      <td>NaN</td>\n",
       "      <td>NaN</td>\n",
       "      <td>NaN</td>\n",
       "      <td>NaN</td>\n",
       "      <td>NaN</td>\n",
       "    </tr>\n",
       "    <tr>\n",
       "      <th>8694</th>\n",
       "      <td>471015484</td>\n",
       "      <td>12</td>\n",
       "      <td>1</td>\n",
       "      <td>2.458380e+06</td>\n",
       "      <td>0.000078</td>\n",
       "      <td>0.000075</td>\n",
       "      <td>0.10938</td>\n",
       "      <td>0.00683</td>\n",
       "      <td>0.00801</td>\n",
       "      <td>0.00238</td>\n",
       "      <td>0.00031</td>\n",
       "      <td>0.00031</td>\n",
       "      <td>NaN</td>\n",
       "      <td>NaN</td>\n",
       "      <td>NaN</td>\n",
       "      <td>NaN</td>\n",
       "      <td>NaN</td>\n",
       "      <td>NaN</td>\n",
       "    </tr>\n",
       "  </tbody>\n",
       "</table>\n",
       "<p>8695 rows × 18 columns</p>\n",
       "</div>"
      ],
      "text/plain": [
       "            TIC  Outbst  Flare         tpeak   e_tpeak   E_tpeak      Amp  \\\n",
       "0       2760232       1      1  2.458357e+06  0.000863  0.000854  0.01475   \n",
       "1       2760232       2      1  2.458358e+06  0.001059  0.001026  0.01389   \n",
       "2       2760232       3      1  2.458360e+06  0.000026  0.000026  0.28258   \n",
       "3       2760232       3      2  2.458360e+06  0.000195  0.000195  0.04634   \n",
       "4       2760232       3      3  2.458360e+06  0.001735  0.001565  0.01665   \n",
       "...         ...     ...    ...           ...       ...       ...      ...   \n",
       "8690  471015484       9      1  2.458371e+06  0.000070  0.000073  0.13585   \n",
       "8691  471015484      10      1  2.458373e+06  0.000201  0.000249  0.04478   \n",
       "8692  471015484      10      2  2.458373e+06  0.000323  0.000329  0.02797   \n",
       "8693  471015484      11      1  2.458379e+06  0.000151  0.000161  0.03871   \n",
       "8694  471015484      12      1  2.458380e+06  0.000078  0.000075  0.10938   \n",
       "\n",
       "        e_Amp    E_Amp   FWHMdt  e_FWHMdt  E_FWHMdt  Ebol  e_Ebol  E_Ebol  \\\n",
       "0     0.00168  0.00170  0.01958   0.00307   0.00375   NaN     NaN     NaN   \n",
       "1     0.00162  0.00175  0.01612   0.00338   0.00394   NaN     NaN     NaN   \n",
       "2     0.00817  0.00949  0.00196   0.00017   0.00017   NaN     NaN     NaN   \n",
       "3     0.00589  0.00598  0.00610   0.00063   0.00062   NaN     NaN     NaN   \n",
       "4     0.00185  0.00155  0.05816   0.00920   0.00928   NaN     NaN     NaN   \n",
       "...       ...      ...      ...       ...       ...   ...     ...     ...   \n",
       "8690  0.00572  0.00568  0.00254   0.00018   0.00020   NaN     NaN     NaN   \n",
       "8691  0.00437  0.00442  0.00410   0.00100   0.00100   NaN     NaN     NaN   \n",
       "8692  0.00334  0.00339  0.00744   0.00207   0.00283   NaN     NaN     NaN   \n",
       "8693  0.00519  0.00646  0.00266   0.00070   0.00079   NaN     NaN     NaN   \n",
       "8694  0.00683  0.00801  0.00238   0.00031   0.00031   NaN     NaN     NaN   \n",
       "\n",
       "      MCME  e_MCME  E_MCME  \n",
       "0      NaN     NaN     NaN  \n",
       "1      NaN     NaN     NaN  \n",
       "2      NaN     NaN     NaN  \n",
       "3      NaN     NaN     NaN  \n",
       "4      NaN     NaN     NaN  \n",
       "...    ...     ...     ...  \n",
       "8690   NaN     NaN     NaN  \n",
       "8691   NaN     NaN     NaN  \n",
       "8692   NaN     NaN     NaN  \n",
       "8693   NaN     NaN     NaN  \n",
       "8694   NaN     NaN     NaN  \n",
       "\n",
       "[8695 rows x 18 columns]"
      ]
     },
     "execution_count": 3,
     "metadata": {},
     "output_type": "execute_result"
    }
   ],
   "source": [
    "test = download.flare_table.to_pandas()\n",
    "test"
   ]
  },
  {
   "cell_type": "code",
   "execution_count": null,
   "id": "4ea20c97-acf7-4fe2-9937-236ae2df5d35",
   "metadata": {},
   "outputs": [],
   "source": []
  },
  {
   "cell_type": "markdown",
   "id": "10dc8516-e397-4cf6-8e3a-757139116664",
   "metadata": {},
   "source": [
    "## Loading comet models"
   ]
  },
  {
   "cell_type": "code",
   "execution_count": null,
   "id": "b436dcd2-52ca-4ff1-ba3e-f551ec47504f",
   "metadata": {},
   "outputs": [],
   "source": [
    "comets =  glob('../models/*_model.npy')"
   ]
  },
  {
   "cell_type": "code",
   "execution_count": null,
   "id": "00586bff-e4c6-4565-8e89-d744696e5220",
   "metadata": {},
   "outputs": [],
   "source": [
    "num_files_per_grid = 100\n",
    "\n",
    "tic = []\n",
    "times = []\n",
    "\n",
    "for i in range(0, len(comets), num_files_per_grid):\n",
    "    batch_paths = comets[i:i+num_files_per_grid]\n",
    "    num_rows, num_cols = 10, 10\n",
    "    fig, axs = plt.subplots(num_rows, num_cols, figsize=(20, 20))\n",
    "\n",
    "    for j, path in enumerate(batch_paths):\n",
    "        file = np.load(path,allow_pickle=True)\n",
    "        time, flux, fluxerror, ticid,t0 = file\n",
    "        flux = flux/np.nanmedian(flux)\n",
    "\n",
    "        # Extract the file ID from the path\n",
    "        file_id = os.path.splitext(os.path.basename(path))[0].split('_')[0]\n",
    "        tic.append(ticid)\n",
    "        times.append(t0)\n",
    "        \n",
    "\n",
    "        row = j // num_cols\n",
    "        col = j % num_cols\n",
    "\n",
    "        axs[row, col].plot(time, flux)\n",
    "        axs[row, col].set_title(f'TIC {file_id}')\n",
    "\n",
    "    plt.tight_layout()\n",
    "    plt.show()"
   ]
  },
  {
   "cell_type": "code",
   "execution_count": 5,
   "id": "1e6b3462-cb4c-44df-8208-921dc25b6b2c",
   "metadata": {},
   "outputs": [],
   "source": [
    "import pandas as pd"
   ]
  },
  {
   "cell_type": "code",
   "execution_count": 8,
   "id": "da2e4f15-5c76-44d7-9352-73190932daf1",
   "metadata": {},
   "outputs": [
    {
     "ename": "NameError",
     "evalue": "name 'tic' is not defined",
     "output_type": "error",
     "traceback": [
      "\u001b[0;31m---------------------------------------------------------------------------\u001b[0m",
      "\u001b[0;31mNameError\u001b[0m                                 Traceback (most recent call last)",
      "Cell \u001b[0;32mIn[8], line 1\u001b[0m\n\u001b[0;32m----> 1\u001b[0m data \u001b[38;5;241m=\u001b[39m pd\u001b[38;5;241m.\u001b[39mDataFrame(data\u001b[38;5;241m=\u001b[39m[\u001b[43mtic\u001b[49m,times])\u001b[38;5;241m.\u001b[39mT\n\u001b[1;32m      2\u001b[0m columns \u001b[38;5;241m=\u001b[39m [\u001b[38;5;124m'\u001b[39m\u001b[38;5;124mTIC\u001b[39m\u001b[38;5;124m'\u001b[39m,\u001b[38;5;124m'\u001b[39m\u001b[38;5;124mtpeak\u001b[39m\u001b[38;5;124m'\u001b[39m]\n\u001b[1;32m      3\u001b[0m data\u001b[38;5;241m.\u001b[39mcolumns \u001b[38;5;241m=\u001b[39m columns\n",
      "\u001b[0;31mNameError\u001b[0m: name 'tic' is not defined"
     ]
    }
   ],
   "source": [
    "data = pd.DataFrame(data=[tic,times]).T\n",
    "columns = ['TIC','tpeak']\n",
    "data.columns = columns\n",
    "data['TIC_ID'] = data['TIC_ID'].astype(int)\n",
    "data['tpeak'] = data['tpeak'].astype(float)"
   ]
  },
  {
   "cell_type": "code",
   "execution_count": null,
   "id": "1eec97f9-5d52-4ae2-8969-2dad57b7082b",
   "metadata": {},
   "outputs": [],
   "source": [
    "directory = '/Users/azib/Documents/open_source/kilimanjaro/models'\n",
    "ids = [int(file_name.split('_')[0]) for file_name in os.listdir(directory) if '_' in file_name]\n",
    "matched_ids = [id_ for id_ in ids if id_ in data['TIC_ID'].values]"
   ]
  },
  {
   "cell_type": "code",
   "execution_count": null,
   "id": "1c3be23a-5267-40cf-9af1-e5026c1a9f78",
   "metadata": {},
   "outputs": [],
   "source": [
    "test = pd.DataFrame(ids,columns=['TIC_ID'])"
   ]
  },
  {
   "cell_type": "code",
   "execution_count": null,
   "id": "e64611ca-71ae-44bc-9d96-6ac05ed2e688",
   "metadata": {},
   "outputs": [],
   "source": [
    "data2 = pd.merge(test,data,how='outer').fillna(0)\n",
    "data2"
   ]
  },
  {
   "cell_type": "code",
   "execution_count": null,
   "id": "f935f03d-20b8-4d0b-b6ab-4cd0f8eaf07d",
   "metadata": {},
   "outputs": [],
   "source": [
    "data2.to_csv('tests.txt',index=False)"
   ]
  },
  {
   "cell_type": "code",
   "execution_count": null,
   "id": "701270ee-155b-4184-8b13-9e88683cc265",
   "metadata": {
    "scrolled": true
   },
   "outputs": [],
   "source": [
    "import stella"
   ]
  },
  {
   "cell_type": "code",
   "execution_count": null,
   "id": "224c725d-954f-40f1-8204-1287ae52ce61",
   "metadata": {},
   "outputs": [],
   "source": [
    "ds = stella.FlareDataSet(fn_dir='/Users/azib/Documents/open_source/kilimanjaro/models/',\n",
    "                         catalog='/Users/azib/Documents/open_source/kilimanjaro/notebooks/tests.txt')"
   ]
  },
  {
   "cell_type": "code",
   "execution_count": null,
   "id": "dffa48e0-96ba-41de-b2f1-4514fbf43b90",
   "metadata": {},
   "outputs": [],
   "source": []
  },
  {
   "cell_type": "code",
   "execution_count": null,
   "id": "4c86266d-62f2-4728-8881-6029024aff80",
   "metadata": {},
   "outputs": [],
   "source": []
  }
 ],
 "metadata": {
  "kernelspec": {
   "display_name": "kilimanjaro",
   "language": "python",
   "name": "kilimanjaro"
  },
  "language_info": {
   "codemirror_mode": {
    "name": "ipython",
    "version": 3
   },
   "file_extension": ".py",
   "mimetype": "text/x-python",
   "name": "python",
   "nbconvert_exporter": "python",
   "pygments_lexer": "ipython3",
   "version": "3.8.19"
  }
 },
 "nbformat": 4,
 "nbformat_minor": 5
}
